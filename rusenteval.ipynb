{
  "nbformat": 4,
  "nbformat_minor": 0,
  "metadata": {
    "colab": {
      "provenance": [],
      "gpuType": "T4"
    },
    "kernelspec": {
      "name": "python3",
      "display_name": "Python 3"
    },
    "language_info": {
      "name": "python"
    },
    "accelerator": "GPU"
  },
  "cells": [
    {
      "cell_type": "code",
      "source": [
        "# откатываем питон чтобы было совместимо\n",
        "!sudo apt-get update -y\n",
        "!sudo apt-get install -y python3.10 python3.10-venv python3.10-dev\n",
        "\n",
        "# проверяем версию Python\n",
        "!python3.10 --version\n",
        "\n",
        "# создаём виртуальное окружение\n",
        "!python3.10 -m venv rusenteval-env\n",
        "\n",
        "# обновляем pip внутри venv\n",
        "!bash -c \"source rusenteval-env/bin/activate && python -m pip install --upgrade pip setuptools wheel\"\n",
        "\n",
        "# клонируем репозиторий\n",
        "!git clone https://github.com/RussianNLP/rusenteval/\n",
        "%cd rusenteval\n",
        "\n",
        "# устанавливаем инструменты\n",
        "!bash -c \"source ../rusenteval-env/bin/activate && sh install_tools.sh\"\n",
        "\n",
        "# устанавливаем зависимости\n",
        "!bash -c \"source ../rusenteval-env/bin/activate && \\\n",
        "pip install transformers==4.30.0 sentencepiece==0.1.99 dataclasses==0.6 fasttext==0.9.2 scikit-learn torch torchvision torchaudio --index-url https://download.pytorch.org/whl/cu118\"\n",
        "\n",
        "# Проверяем GPU и версию PyTorch\n",
        "!bash -c \"source ../rusenteval-env/bin/activate && python -c 'import torch; print(torch.__version__); print(torch.cuda.is_available())'\""
      ],
      "metadata": {
        "id": "Dq0sWqEZ0jE6"
      },
      "execution_count": null,
      "outputs": []
    },
    {
      "cell_type": "code",
      "source": [
        "from probing.arguments import ProbingArguments\n",
        "from probing.experiment import Experiment\n",
        "import torch\n",
        "\n",
        "# Автоматический выбор устройства (GPU если доступен)\n",
        "device = \"cuda\" if torch.cuda.is_available() else \"cpu\"\n",
        "print(f\"Using device: {device}\")\n",
        "\n",
        "# Задачи пробинга\n",
        "tasks = [\"obj_gender\"]\n",
        "\n",
        "# Выбор модели\n",
        "model_name = \"DeepPavlov/rubert-base-cased\"\n",
        "\n",
        "# Настройка аргументов\n",
        "args = ProbingArguments()\n",
        "args.clf = \"logreg\"\n",
        "args.device = device\n",
        "\n",
        "# Создаём эксперимент\n",
        "experiment = Experiment(tasks, model_name, args)\n",
        "\n",
        "# Запускаем\n",
        "experiment.run()"
      ],
      "metadata": {
        "id": "7zlOaXgA0ylT"
      },
      "execution_count": null,
      "outputs": []
    }
  ]
}